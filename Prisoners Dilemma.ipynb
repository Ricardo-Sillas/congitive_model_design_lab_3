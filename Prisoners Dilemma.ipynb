{
 "cells": [
  {
   "cell_type": "code",
   "execution_count": 23,
   "id": "a9e76afb",
   "metadata": {},
   "outputs": [
    {
     "name": "stderr",
     "output_type": "stream",
     "text": [
      "100%|████████████████████████████████████████████████████████████████████████████████| 100/100 [00:02<00:00, 39.21it/s]\n",
      "No artists with labels found to put in legend.  Note that artists whose label start with an underscore are ignored when legend() is called with no argument.\n"
     ]
    },
    {
     "data": {
      "image/png": "[encoded data removed]",
      "text/plain": [
       "<Figure size 432x288 with 1 Axes>"
      ]
     },
     "metadata": {
      "needs_background": "light"
     },
     "output_type": "display_data"
    }
   ],
   "source": [
    "import matplotlib.pyplot as plt\n",
    "import pyibl\n",
    "from tqdm import tqdm\n",
    "\n",
    "DECAY = 0.5\n",
    "DEFAULT_UTILITY = 30\n",
    "NOISE = 0.25\n",
    "PARTICIPANTS = 100\n",
    "ROUNDS = 100\n",
    "\n",
    "def run(rounds, participants):\n",
    "    cooperation = [0] * rounds\n",
    "    aOne = pyibl.Agent(default_utility=DEFAULT_UTILITY, noise=NOISE, decay=DECAY)\n",
    "    aTwo = pyibl.Agent(default_utility=DEFAULT_UTILITY, noise=NOISE, decay=DECAY)\n",
    "    for p in tqdm(range(participants)):\n",
    "        aOne.reset()\n",
    "        aTwo.reset()\n",
    "        for r in range(rounds):\n",
    "            cOne = aOne.choose(\"C\", \"D\")\n",
    "            cTwo = aTwo.choose(\"C\", \"D\")\n",
    "            if cOne == \"C\":\n",
    "                if cTwo == \"C\":\n",
    "                    aOne.respond(1)\n",
    "                    aTwo.respond(1)\n",
    "                    cooperation[r] += 1\n",
    "                else:\n",
    "                    aOne.respond(-10)\n",
    "                    aTwo.respond(10)\n",
    "            else:\n",
    "                if cTwo == \"C\":\n",
    "                    aOne.respond(10)\n",
    "                    aTwo.respond(-10)\n",
    "                else:\n",
    "                    aOne.respond(-1)\n",
    "                    aTwo.respond(-1)\n",
    "    return [ n / participants for n in cooperation]\n",
    "\n",
    "def main():\n",
    "    plt.plot(range(1, ROUNDS + 1), run(ROUNDS, PARTICIPANTS))\n",
    "    plt.ylim([0, 1])\n",
    "    plt.ylabel(\"fraction choosing both cooperation\")\n",
    "    plt.xlabel(\"round\")\n",
    "    plt.legend()\n",
    "    plt.show()\n",
    "\n",
    "if __name__ == '__main__':\n",
    "    main()"
   ]
  },
  {
   "cell_type": "code",
   "execution_count": null,
   "id": "d4921bfa",
   "metadata": {},
   "outputs": [],
   "source": []
  }
 ],
 "metadata": {
  "kernelspec": {
   "display_name": "Python 3 (ipykernel)",
   "language": "python",
   "name": "python3"
  },
  "language_info": {
   "codemirror_mode": {
    "name": "ipython",
    "version": 3
   },
   "file_extension": ".py",
   "mimetype": "text/x-python",
   "name": "python",
   "nbconvert_exporter": "python",
   "pygments_lexer": "ipython3",
   "version": "3.10.2"
  }
 },
 "nbformat": 4,
 "nbformat_minor": 5
}
